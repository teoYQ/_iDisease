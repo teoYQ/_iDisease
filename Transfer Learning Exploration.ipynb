{
 "cells": [
  {
   "cell_type": "code",
   "execution_count": 2,
   "metadata": {
    "colab": {
     "base_uri": "https://localhost:8080/",
     "height": 33
    },
    "colab_type": "code",
    "id": "mqCvxTGA16b8",
    "outputId": "0a578f85-5152-4120-ac7f-68614019cb91"
   },
   "outputs": [
    {
     "name": "stderr",
     "output_type": "stream",
     "text": [
      "Using TensorFlow backend.\n"
     ]
    }
   ],
   "source": [
    "import os\n",
    "import numpy as np\n",
    "import pandas as pd \n",
    "import random\n",
    "import cv2\n",
    "import matplotlib.pyplot as plt\n",
    "import tensorflow as tf\n",
    "\n",
    "import tensorflow.keras.backend as K\n",
    "from keras.models import Sequential,Model\n",
    "from keras.layers import Conv2D,MaxPooling2D\n",
    "from keras.layers import Activation, Dense, Flatten, Dropout\n",
    "from keras.optimizers import Adam\n",
    "from keras.preprocessing.image import ImageDataGenerator\n",
    "from keras.callbacks import ModelCheckpoint, ReduceLROnPlateau, EarlyStopping\n",
    "from keras.utils import plot_model\n",
    "\n",
    "from os import listdir\n",
    "from os.path import isfile, join\n",
    "from PIL import Image\n",
    "import glob\n",
    "\n",
    "%matplotlib inline"
   ]
  },
  {
   "cell_type": "code",
   "execution_count": 0,
   "metadata": {
    "colab": {},
    "colab_type": "code",
    "id": "g93j39G5SB7V"
   },
   "outputs": [],
   "source": [
    "PARAMS = {'img_dims': 160,\n",
    "          'img_dims_inception': 299,\n",
    "          'img_dims_vgg': 224,\n",
    "          'epochs': 100,\n",
    "          'batch_size': 64,\n",
    "          }"
   ]
  },
  {
   "cell_type": "markdown",
   "metadata": {
    "colab_type": "text",
    "id": "A4DOhCVw16cF"
   },
   "source": [
    "## Loading of Data"
   ]
  },
  {
   "cell_type": "code",
   "execution_count": 4,
   "metadata": {
    "colab": {
     "base_uri": "https://localhost:8080/",
     "height": 120
    },
    "colab_type": "code",
    "id": "k7s70VU82Ehh",
    "outputId": "177381c6-0226-47ad-ec87-c616d3bc0988"
   },
   "outputs": [
    {
     "name": "stdout",
     "output_type": "stream",
     "text": [
      "Go to this URL in a browser: https://accounts.google.com/o/oauth2/auth?client_id=947318989803-6bn6qk8qdgf4n4g3pfee6491hc0brc4i.apps.googleusercontent.com&redirect_uri=urn%3aietf%3awg%3aoauth%3a2.0%3aoob&response_type=code&scope=email%20https%3a%2f%2fwww.googleapis.com%2fauth%2fdocs.test%20https%3a%2f%2fwww.googleapis.com%2fauth%2fdrive%20https%3a%2f%2fwww.googleapis.com%2fauth%2fdrive.photos.readonly%20https%3a%2f%2fwww.googleapis.com%2fauth%2fpeopleapi.readonly\n",
      "\n",
      "Enter your authorization code:\n",
      "··········\n",
      "Mounted at /content/drive\n"
     ]
    }
   ],
   "source": [
    "from google.colab import drive\n",
    "drive.mount('/content/drive')"
   ]
  },
  {
   "cell_type": "code",
   "execution_count": 5,
   "metadata": {
    "colab": {
     "base_uri": "https://localhost:8080/",
     "height": 33
    },
    "colab_type": "code",
    "id": "yCJABFUJ2OK0",
    "outputId": "7633b6c2-286e-45cf-b9ee-6adb80f36477"
   },
   "outputs": [
    {
     "name": "stdout",
     "output_type": "stream",
     "text": [
      "test  train  val\n"
     ]
    }
   ],
   "source": [
    "!ls '/content/drive/My Drive/Colab Notebooks/Data/OCT 2017'"
   ]
  },
  {
   "cell_type": "code",
   "execution_count": 0,
   "metadata": {
    "colab": {},
    "colab_type": "code",
    "id": "FuoAZJNX16cI"
   },
   "outputs": [],
   "source": [
    "train_path = '/content/drive/My Drive/Colab Notebooks/Data/OCT 2017/train'\n",
    "\n",
    "test_path = '/content/drive/My Drive/Colab Notebooks/Data/OCT 2017/test'\n",
    "\n",
    "val_path = '/content/drive/My Drive/Colab Notebooks/Data/OCT 2017/val'"
   ]
  },
  {
   "cell_type": "code",
   "execution_count": 0,
   "metadata": {
    "colab": {},
    "colab_type": "code",
    "id": "wV94Ph24aW7m"
   },
   "outputs": [],
   "source": [
    "def process_test_data(val_path, img_dim):\n",
    "  test_datagen = ImageDataGenerator(rescale=1./255, horizontal_flip=False)\n",
    "  test_gen = test_datagen.flow_from_directory(directory=val_path, \n",
    "                                                target_size=(img_dim,img_dim),\n",
    "                                                class_mode='categorical',\n",
    "                                                shuffle=False)\n",
    "  return test_gen"
   ]
  },
  {
   "cell_type": "code",
   "execution_count": 0,
   "metadata": {
    "colab": {},
    "colab_type": "code",
    "id": "lC9nJ6KF16cb"
   },
   "outputs": [],
   "source": [
    "def process_data(img_dim, batch_size):\n",
    "    # Split 0.2\n",
    "    train_datagen = ImageDataGenerator(rescale=1./255,\n",
    "                                       zoom_range=0.3, horizontal_flip=True, validation_split=0.2)\n",
    "    \n",
    "    val_datagen = ImageDataGenerator(rescale=1./255, validation_split=0.2)\n",
    "    \n",
    "    train_gen = train_datagen.flow_from_directory(directory=test_path, \n",
    "                                                  target_size=(img_dim,img_dim), \n",
    "                                                  batch_size=batch_size, \n",
    "                                                  class_mode = 'categorical', \n",
    "                                                  subset='training',\n",
    "                                                  shuffle=True)\n",
    "\n",
    "    val_gen = val_datagen.flow_from_directory(directory=test_path, \n",
    "                                                target_size=(img_dim,img_dim), \n",
    "                                                batch_size=batch_size, \n",
    "                                                class_mode='categorical', \n",
    "                                                subset='validation',\n",
    "                                                shuffle=True)\n",
    "    \n",
    "    return train_gen, val_gen"
   ]
  },
  {
   "cell_type": "code",
   "execution_count": 9,
   "metadata": {
    "colab": {
     "base_uri": "https://localhost:8080/",
     "height": 50
    },
    "colab_type": "code",
    "id": "alSAPNLFIqb1",
    "outputId": "8a913860-b0eb-44b4-a8d0-204a2fe81a40"
   },
   "outputs": [
    {
     "name": "stdout",
     "output_type": "stream",
     "text": [
      "Downloading data from https://github.com/fchollet/deep-learning-models/releases/download/v0.1/vgg16_weights_tf_dim_ordering_tf_kernels_notop.h5\n",
      "58892288/58889256 [==============================] - 2s 0us/step\n"
     ]
    }
   ],
   "source": [
    "from keras.applications.vgg16 import VGG16\n",
    "from keras.applications.mobilenet import MobileNet\n",
    "from keras.applications.resnet_v2 import ResNet50V2\n",
    "from keras.applications.inception_v3 import InceptionV3\n",
    "from keras.applications.inception_resnet_v2 import InceptionResNetV2\n",
    "\n",
    "# model = InceptionV3(weights = \"imagenet\", include_top=False, input_shape=(PARAMS['img_dims_inception'], PARAMS['img_dims_inception'], 3))\n",
    "# model = InceptionResNetV2(weights = \"imagenet\", include_top=False, input_shape=(PARAMS['img_dims_inception'], PARAMS['img_dims_inception'], 3))\n",
    "model = VGG16(weights = \"imagenet\", include_top=False, input_shape=(PARAMS['img_dims_vgg'], PARAMS['img_dims_vgg'], 3))\n",
    "# model = MobileNet(weights = \"imagenet\", include_top=False, input_shape=(PARAMS['img_dims_vgg'], PARAMS['img_dims_vgg'], 3))\n",
    "# model = ResNet50V2(weights = \"imagenet\", include_top=False, input_shape=(PARAMS['img_dims_vgg'], PARAMS['img_dims_vgg'], 3))\n",
    "\n",
    "# Freeze front layers\n",
    "for layer in model.layers:\n",
    "    layer.trainable = False\n",
    "\n",
    "# Adding FC layers \n",
    "x = model.output\n",
    "x = Flatten()(x)\n",
    "x = Dropout(0.5)(x)\n",
    "x = Dense(256, activation=\"relu\")(x)\n",
    "predictions = Dense(4, activation=\"softmax\")(x)\n",
    "\n",
    "model = Model(inputs=model.input, outputs=predictions)"
   ]
  },
  {
   "cell_type": "code",
   "execution_count": 0,
   "metadata": {
    "colab": {},
    "colab_type": "code",
    "id": "GafFDwQmKCuS"
   },
   "outputs": [],
   "source": [
    "opt = Adam(lr=0.0002)\n",
    "model.compile(optimizer=opt, loss='categorical_crossentropy', metrics=['accuracy'])"
   ]
  },
  {
   "cell_type": "code",
   "execution_count": 0,
   "metadata": {
    "colab": {},
    "colab_type": "code",
    "id": "hctpLyjcKRWR"
   },
   "outputs": [],
   "source": [
    "# if inception use:\n",
    "# train_gen, val_gen = process_data(PARAMS['img_dims_inception'], PARAMS['img_dims_inception'])\n",
    "# if VGG, MobileNet or ResNet, use:\n",
    "train_gen, val_gen = process_data(PARAMS['img_dims_vgg'], PARAMS['img_dims_vgg'])\n"
   ]
  },
  {
   "cell_type": "code",
   "execution_count": 0,
   "metadata": {
    "colab": {},
    "colab_type": "code",
    "id": "G6jMzU2Ea7ep"
   },
   "outputs": [],
   "source": [
    "# use the appropriate image size\n",
    "# test_gen = process_test_data(val_path, PARAMS['img_dims_inception'])\n",
    "test_gen = process_test_data(val_path, PARAMS['img_dims_vgg'])"
   ]
  },
  {
   "cell_type": "code",
   "execution_count": 0,
   "metadata": {
    "colab": {},
    "colab_type": "code",
    "id": "5soqw9dXKgX5"
   },
   "outputs": [],
   "source": [
    "import keras\n",
    "\n",
    "es = keras.callbacks.EarlyStopping(monitor='val_loss',mode='min',patience=5)"
   ]
  },
  {
   "cell_type": "code",
   "execution_count": 14,
   "metadata": {
    "colab": {
     "base_uri": "https://localhost:8080/",
     "height": 1000
    },
    "colab_type": "code",
    "id": "jXi--BP7Khvr",
    "outputId": "5f93b6ec-e44e-4194-eb8b-8769e6a74ebc"
   },
   "outputs": [
    {
     "name": "stdout",
     "output_type": "stream",
     "text": [
      "Epoch 1/100\n"
     ]
    },
    {
     "name": "stderr",
     "output_type": "stream",
     "text": [
      "/usr/local/lib/python3.6/dist-packages/keras/utils/data_utils.py:616: UserWarning: The input 3 could not be retrieved. It could be because a worker has died.\n",
      "  UserWarning)\n"
     ]
    },
    {
     "name": "stdout",
     "output_type": "stream",
     "text": [
      "\r 1/12 [=>............................] - ETA: 11:09 - loss: 2.2049 - accuracy: 0.2523"
     ]
    },
    {
     "name": "stderr",
     "output_type": "stream",
     "text": [
      "/usr/local/lib/python3.6/dist-packages/keras/utils/data_utils.py:616: UserWarning: The input 1 could not be retrieved. It could be because a worker has died.\n",
      "  UserWarning)\n"
     ]
    },
    {
     "name": "stdout",
     "output_type": "stream",
     "text": [
      "\b\b\b\b\b\b\b\b\b\b\b\b\b\b\b\b\b\b\b\b\b\b\b\b\b\b\b\b\b\b\b\b\b\b\b\b\b\b\b\b\b\b\b\b\b\b\b\b\b\b\b\b\b\b\b\b\b\b\b\b\b\b\b\b\b\b\b\b\b\b\b\b\b\b\b\b\b\b\b\b\b\b\b\b\b\r 2/12 [====>.........................] - ETA: 14:59 - loss: 2.0921 - accuracy: 0.2746"
     ]
    },
    {
     "name": "stderr",
     "output_type": "stream",
     "text": [
      "/usr/local/lib/python3.6/dist-packages/keras/utils/data_utils.py:616: UserWarning: The input 2 could not be retrieved. It could be because a worker has died.\n",
      "  UserWarning)\n"
     ]
    },
    {
     "name": "stdout",
     "output_type": "stream",
     "text": [
      "\b\b\b\b\b\b\b\b\b\b\b\b\b\b\b\b\b\b\b\b\b\b\b\b\b\b\b\b\b\b\b\b\b\b\b\b\b\b\b\b\b\b\b\b\b\b\b\b\b\b\b\b\b\b\b\b\b\b\b\b\b\b\b\b\b\b\b\b\b\b\b\b\b\b\b\b\b\b\b\b\b\b\b\b\b\r 3/12 [======>.......................] - ETA: 15:06 - loss: 2.1070 - accuracy: 0.2630"
     ]
    },
    {
     "name": "stderr",
     "output_type": "stream",
     "text": [
      "/usr/local/lib/python3.6/dist-packages/keras/utils/data_utils.py:616: UserWarning: The input 0 could not be retrieved. It could be because a worker has died.\n",
      "  UserWarning)\n"
     ]
    },
    {
     "name": "stdout",
     "output_type": "stream",
     "text": [
      "12/12 [==============================] - 468s 39s/step - loss: 1.5096 - accuracy: 0.3823 - val_loss: 1.0317 - val_accuracy: 0.5464\n",
      "Epoch 2/100\n",
      "12/12 [==============================] - 49s 4s/step - loss: 0.8697 - accuracy: 0.6594 - val_loss: 0.6178 - val_accuracy: 0.7990\n",
      "Epoch 3/100\n",
      "12/12 [==============================] - 48s 4s/step - loss: 0.5612 - accuracy: 0.8084 - val_loss: 0.4852 - val_accuracy: 0.8557\n",
      "Epoch 4/100\n",
      "12/12 [==============================] - 48s 4s/step - loss: 0.4141 - accuracy: 0.8514 - val_loss: 0.3695 - val_accuracy: 0.8557\n",
      "Epoch 5/100\n",
      "12/12 [==============================] - 48s 4s/step - loss: 0.3241 - accuracy: 0.8966 - val_loss: 0.3061 - val_accuracy: 0.8918\n",
      "Epoch 6/100\n",
      "12/12 [==============================] - 48s 4s/step - loss: 0.2682 - accuracy: 0.9080 - val_loss: 0.2590 - val_accuracy: 0.9175\n",
      "Epoch 7/100\n",
      "12/12 [==============================] - 48s 4s/step - loss: 0.2430 - accuracy: 0.9217 - val_loss: 0.2176 - val_accuracy: 0.9227\n",
      "Epoch 8/100\n",
      "12/12 [==============================] - 49s 4s/step - loss: 0.2194 - accuracy: 0.9225 - val_loss: 0.2185 - val_accuracy: 0.9330\n",
      "Epoch 9/100\n",
      "12/12 [==============================] - 48s 4s/step - loss: 0.2047 - accuracy: 0.9340 - val_loss: 0.2028 - val_accuracy: 0.9227\n",
      "Epoch 10/100\n",
      "12/12 [==============================] - 48s 4s/step - loss: 0.1745 - accuracy: 0.9502 - val_loss: 0.1891 - val_accuracy: 0.9433\n",
      "Epoch 11/100\n",
      "12/12 [==============================] - 48s 4s/step - loss: 0.1545 - accuracy: 0.9570 - val_loss: 0.1620 - val_accuracy: 0.9536\n",
      "Epoch 12/100\n",
      "12/12 [==============================] - 49s 4s/step - loss: 0.1509 - accuracy: 0.9544 - val_loss: 0.1556 - val_accuracy: 0.9433\n",
      "Epoch 13/100\n",
      "12/12 [==============================] - 48s 4s/step - loss: 0.1383 - accuracy: 0.9600 - val_loss: 0.1520 - val_accuracy: 0.9433\n",
      "Epoch 14/100\n",
      "12/12 [==============================] - 48s 4s/step - loss: 0.1312 - accuracy: 0.9621 - val_loss: 0.1373 - val_accuracy: 0.9485\n",
      "Epoch 15/100\n",
      "12/12 [==============================] - 49s 4s/step - loss: 0.1248 - accuracy: 0.9613 - val_loss: 0.1490 - val_accuracy: 0.9639\n",
      "Epoch 16/100\n",
      "12/12 [==============================] - 49s 4s/step - loss: 0.1198 - accuracy: 0.9676 - val_loss: 0.1371 - val_accuracy: 0.9536\n",
      "Epoch 17/100\n",
      "12/12 [==============================] - 48s 4s/step - loss: 0.1078 - accuracy: 0.9719 - val_loss: 0.1367 - val_accuracy: 0.9485\n",
      "Epoch 18/100\n",
      "12/12 [==============================] - 48s 4s/step - loss: 0.0958 - accuracy: 0.9745 - val_loss: 0.1395 - val_accuracy: 0.9433\n",
      "Epoch 19/100\n",
      "12/12 [==============================] - 48s 4s/step - loss: 0.0911 - accuracy: 0.9774 - val_loss: 0.1303 - val_accuracy: 0.9536\n",
      "Epoch 20/100\n",
      "12/12 [==============================] - 48s 4s/step - loss: 0.1079 - accuracy: 0.9698 - val_loss: 0.1487 - val_accuracy: 0.9536\n",
      "Epoch 21/100\n",
      "12/12 [==============================] - 49s 4s/step - loss: 0.0991 - accuracy: 0.9681 - val_loss: 0.1295 - val_accuracy: 0.9485\n",
      "Epoch 22/100\n",
      "12/12 [==============================] - 48s 4s/step - loss: 0.0987 - accuracy: 0.9711 - val_loss: 0.1523 - val_accuracy: 0.9381\n",
      "Epoch 23/100\n",
      "12/12 [==============================] - 48s 4s/step - loss: 0.1036 - accuracy: 0.9740 - val_loss: 0.1719 - val_accuracy: 0.9381\n",
      "Epoch 24/100\n",
      "12/12 [==============================] - 48s 4s/step - loss: 0.1059 - accuracy: 0.9668 - val_loss: 0.1589 - val_accuracy: 0.9381\n",
      "Epoch 25/100\n",
      "12/12 [==============================] - 49s 4s/step - loss: 0.0947 - accuracy: 0.9732 - val_loss: 0.1420 - val_accuracy: 0.9433\n",
      "Epoch 26/100\n",
      "12/12 [==============================] - 48s 4s/step - loss: 0.0906 - accuracy: 0.9728 - val_loss: 0.1188 - val_accuracy: 0.9588\n",
      "Epoch 27/100\n",
      "12/12 [==============================] - 49s 4s/step - loss: 0.0733 - accuracy: 0.9791 - val_loss: 0.1210 - val_accuracy: 0.9588\n",
      "Epoch 28/100\n",
      "12/12 [==============================] - 49s 4s/step - loss: 0.0642 - accuracy: 0.9838 - val_loss: 0.1235 - val_accuracy: 0.9691\n",
      "Epoch 29/100\n",
      "12/12 [==============================] - 48s 4s/step - loss: 0.0607 - accuracy: 0.9860 - val_loss: 0.1280 - val_accuracy: 0.9536\n",
      "Epoch 30/100\n",
      "12/12 [==============================] - 48s 4s/step - loss: 0.0641 - accuracy: 0.9834 - val_loss: 0.1387 - val_accuracy: 0.9536\n",
      "Epoch 31/100\n",
      "12/12 [==============================] - 48s 4s/step - loss: 0.0662 - accuracy: 0.9783 - val_loss: 0.1457 - val_accuracy: 0.9485\n"
     ]
    }
   ],
   "source": [
    "history = model.fit_generator(train_gen, epochs=100,\n",
    "                              steps_per_epoch=train_gen.samples // PARAMS['batch_size'],\n",
    "                              validation_data=val_gen,\n",
    "                              validation_steps=30,\n",
    "                              callbacks=[es])"
   ]
  },
  {
   "cell_type": "code",
   "execution_count": 15,
   "metadata": {
    "colab": {
     "base_uri": "https://localhost:8080/",
     "height": 50
    },
    "colab_type": "code",
    "id": "wllFMXXrO3qf",
    "outputId": "54c3c765-87bb-4ba7-94bf-f5c2dc611574"
   },
   "outputs": [
    {
     "name": "stdout",
     "output_type": "stream",
     "text": [
      "\r1/1 [==============================] - 16s 16s/step\n"
     ]
    },
    {
     "data": {
      "text/plain": [
       "[0.15945149958133698, 0.9375]"
      ]
     },
     "execution_count": 15,
     "metadata": {
      "tags": []
     },
     "output_type": "execute_result"
    }
   ],
   "source": [
    "model.evaluate(test_gen)"
   ]
  },
  {
   "cell_type": "code",
   "execution_count": 0,
   "metadata": {
    "colab": {},
    "colab_type": "code",
    "id": "LxqBvjy716c2"
   },
   "outputs": [],
   "source": [
    ""
   ]
  }
 ],
 "metadata": {
  "accelerator": "GPU",
  "colab": {
   "collapsed_sections": [],
   "name": "Copy of Trial 2.ipynb",
   "provenance": []
  },
  "kernelspec": {
   "display_name": "Python 3",
   "name": "python3"
  },
  "language_info": {
   "codemirror_mode": {
    "name": "ipython",
    "version": 3
   },
   "file_extension": ".py",
   "mimetype": "text/x-python",
   "name": "python",
   "nbconvert_exporter": "python",
   "pygments_lexer": "ipython3",
   "version": "3.7.4"
  }
 },
 "nbformat": 4,
 "nbformat_minor": 0
}
