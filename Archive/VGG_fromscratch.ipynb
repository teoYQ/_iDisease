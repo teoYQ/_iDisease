{
 "cells": [
  {
   "cell_type": "code",
   "execution_count": 1,
   "metadata": {},
   "outputs": [],
   "source": [
    "import tensorflow as tf\n",
    "from tensorflow.keras import layers\n",
    "from tensorflow.keras.models import Model, Sequential\n",
    "from tensorflow.keras.layers import Input, Dense, Flatten, Dropout, BatchNormalization\n",
    "from tensorflow.keras.layers import Conv2D, SeparableConv2D, MaxPool2D, LeakyReLU, Activation, ZeroPadding2D, Add,add,AveragePooling2D"
   ]
  },
  {
   "cell_type": "code",
   "execution_count": 2,
   "metadata": {},
   "outputs": [],
   "source": [
    "PARAMS = {'img_dims': 160,\n",
    "          'epochs': 35,\n",
    "          'batch_size': 32,\n",
    "          'optimizer': 'adam',\n",
    "          'loss': 'categorical_crossentropy',\n",
    "          'metrics': 'accuracy',\n",
    "          }"
   ]
  },
  {
   "cell_type": "code",
   "execution_count": 3,
   "metadata": {},
   "outputs": [],
   "source": [
    "inputs = Input(shape=(PARAMS['img_dims'], PARAMS['img_dims'], 3))"
   ]
  },
  {
   "cell_type": "code",
   "execution_count": 4,
   "metadata": {},
   "outputs": [],
   "source": [
    "def VGG_network(inputs):\n",
    "    X = Conv2D(filters=64, kernel_size=(3,3), padding=\"same\", activation=\"relu\")(inputs)\n",
    "    X = Conv2D(filters=64, kernel_size=(3,3), padding=\"same\", activation=\"relu\")(X)\n",
    "    X = MaxPool2D(pool_size=(2,2), strides=(2,2))(X)\n",
    "    \n",
    "    X = Conv2D(filters=128, kernel_size=(3,3), padding=\"same\", activation=\"relu\")(X)\n",
    "    X = Conv2D(filters=128, kernel_size=(3,3), padding=\"same\", activation=\"relu\")(X)\n",
    "    X = MaxPool2D(pool_size=(2,2), strides=(2,2))(X)\n",
    "    \n",
    "    X = Conv2D(filters=256, kernel_size=(3,3), padding=\"same\", activation=\"relu\")(X)\n",
    "    X = Conv2D(filters=256, kernel_size=(3,3), padding=\"same\", activation=\"relu\")(X)\n",
    "    X = Conv2D(filters=256, kernel_size=(3,3), padding=\"same\", activation=\"relu\")(X)\n",
    "    X = MaxPool2D(pool_size=(2,2),strides=(2,2))(X)\n",
    "    \n",
    "    X = Conv2D(filters=512, kernel_size=(3,3), padding=\"same\", activation=\"relu\")(X)\n",
    "    X = Conv2D(filters=512, kernel_size=(3,3), padding=\"same\", activation=\"relu\")(X)\n",
    "    X = Conv2D(filters=512, kernel_size=(3,3), padding=\"same\", activation=\"relu\")(X)\n",
    "    X = MaxPool2D(pool_size=(2,2),strides=(2,2))(X)\n",
    "    \n",
    "    X = Conv2D(filters=512, kernel_size=(3,3), padding=\"same\", activation=\"relu\")(X)\n",
    "    X = Conv2D(filters=512, kernel_size=(3,3), padding=\"same\", activation=\"relu\")(X)\n",
    "    X = Conv2D(filters=512, kernel_size=(3,3), padding=\"same\", activation=\"relu\")(X)\n",
    "    X = MaxPool2D(pool_size=(2,2),strides=(2,2))(X)\n",
    "    \n",
    "    X = Flatten()(X)\n",
    "    X = Dense(4096, activation='relu')(X)\n",
    "    X = Dense(4096, activation='relu')(X)\n",
    "    X = Dense(4, activation='softmax')(X)\n",
    "    return X"
   ]
  },
  {
   "cell_type": "code",
   "execution_count": 5,
   "metadata": {},
   "outputs": [],
   "source": [
    "X = VGG_network(inputs)\n",
    "model = Model(inputs=inputs, outputs=X)"
   ]
  },
  {
   "cell_type": "code",
   "execution_count": 6,
   "metadata": {},
   "outputs": [
    {
     "name": "stdout",
     "output_type": "stream",
     "text": [
      "Model: \"model\"\n",
      "_________________________________________________________________\n",
      "Layer (type)                 Output Shape              Param #   \n",
      "=================================================================\n",
      "input_1 (InputLayer)         [(None, 160, 160, 3)]     0         \n",
      "_________________________________________________________________\n",
      "conv2d (Conv2D)              (None, 160, 160, 64)      1792      \n",
      "_________________________________________________________________\n",
      "conv2d_1 (Conv2D)            (None, 160, 160, 64)      36928     \n",
      "_________________________________________________________________\n",
      "max_pooling2d (MaxPooling2D) (None, 80, 80, 64)        0         \n",
      "_________________________________________________________________\n",
      "conv2d_2 (Conv2D)            (None, 80, 80, 128)       73856     \n",
      "_________________________________________________________________\n",
      "conv2d_3 (Conv2D)            (None, 80, 80, 128)       147584    \n",
      "_________________________________________________________________\n",
      "max_pooling2d_1 (MaxPooling2 (None, 40, 40, 128)       0         \n",
      "_________________________________________________________________\n",
      "conv2d_4 (Conv2D)            (None, 40, 40, 256)       295168    \n",
      "_________________________________________________________________\n",
      "conv2d_5 (Conv2D)            (None, 40, 40, 256)       590080    \n",
      "_________________________________________________________________\n",
      "conv2d_6 (Conv2D)            (None, 40, 40, 256)       590080    \n",
      "_________________________________________________________________\n",
      "max_pooling2d_2 (MaxPooling2 (None, 20, 20, 256)       0         \n",
      "_________________________________________________________________\n",
      "conv2d_7 (Conv2D)            (None, 20, 20, 512)       1180160   \n",
      "_________________________________________________________________\n",
      "conv2d_8 (Conv2D)            (None, 20, 20, 512)       2359808   \n",
      "_________________________________________________________________\n",
      "conv2d_9 (Conv2D)            (None, 20, 20, 512)       2359808   \n",
      "_________________________________________________________________\n",
      "max_pooling2d_3 (MaxPooling2 (None, 10, 10, 512)       0         \n",
      "_________________________________________________________________\n",
      "conv2d_10 (Conv2D)           (None, 10, 10, 512)       2359808   \n",
      "_________________________________________________________________\n",
      "conv2d_11 (Conv2D)           (None, 10, 10, 512)       2359808   \n",
      "_________________________________________________________________\n",
      "conv2d_12 (Conv2D)           (None, 10, 10, 512)       2359808   \n",
      "_________________________________________________________________\n",
      "max_pooling2d_4 (MaxPooling2 (None, 5, 5, 512)         0         \n",
      "_________________________________________________________________\n",
      "flatten (Flatten)            (None, 12800)             0         \n",
      "_________________________________________________________________\n",
      "dense (Dense)                (None, 4096)              52432896  \n",
      "_________________________________________________________________\n",
      "dense_1 (Dense)              (None, 4096)              16781312  \n",
      "_________________________________________________________________\n",
      "dense_2 (Dense)              (None, 4)                 16388     \n",
      "=================================================================\n",
      "Total params: 83,945,284\n",
      "Trainable params: 83,945,284\n",
      "Non-trainable params: 0\n",
      "_________________________________________________________________\n"
     ]
    }
   ],
   "source": [
    "model.summary()"
   ]
  }
 ],
 "metadata": {
  "kernelspec": {
   "display_name": "Python 3",
   "language": "python",
   "name": "python3"
  },
  "language_info": {
   "codemirror_mode": {
    "name": "ipython",
    "version": 3
   },
   "file_extension": ".py",
   "mimetype": "text/x-python",
   "name": "python",
   "nbconvert_exporter": "python",
   "pygments_lexer": "ipython3",
   "version": "3.7.4"
  }
 },
 "nbformat": 4,
 "nbformat_minor": 2
}
